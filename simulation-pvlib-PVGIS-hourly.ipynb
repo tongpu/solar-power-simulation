{
 "cells": [
  {
   "cell_type": "code",
   "execution_count": 28,
   "id": "80c03cf9",
   "metadata": {},
   "outputs": [],
   "source": [
    "from pvlib.iotools import get_pvgis_hourly\n",
    "\n",
    "import pandas as pd\n",
    "import datetime\n",
    "import pytz"
   ]
  },
  {
   "cell_type": "code",
   "execution_count": 29,
   "id": "2a0d7cc2",
   "metadata": {},
   "outputs": [],
   "source": [
    "location = {'latitude': 52.021111, 'longitude': 8.534722}\n",
    "yearlyConsumptionHousehold = 3400\n",
    "yearlyConsumptionHeatpump = 2800"
   ]
  },
  {
   "cell_type": "code",
   "execution_count": 30,
   "id": "dddd243f",
   "metadata": {},
   "outputs": [],
   "source": [
    "arrays = [\n",
    "    {\n",
    "        'surfaceTilt': 30,\n",
    "        'surfaceAzimuth': -155,\n",
    "        'peakPower': 340*17/1000,\n",
    "        'name': 'North-East-Facing Array'\n",
    "    },\n",
    "    {\n",
    "        'surfaceTilt': 30,\n",
    "        'surfaceAzimuth': 25,\n",
    "        'peakPower': 340*8/1000,\n",
    "        'name': 'South-West-Facing Array'\n",
    "    }\n",
    "]"
   ]
  },
  {
   "cell_type": "code",
   "execution_count": 31,
   "id": "1cc08f32",
   "metadata": {},
   "outputs": [],
   "source": [
    "pvPower = [None] * len(arrays)\n",
    "for idx, array in enumerate(arrays):\n",
    "    pvPower[idx], _, _ = get_pvgis_hourly(location['latitude'], location['longitude'],\n",
    "                                            surface_tilt=array['surfaceTilt'],\n",
    "                                            surface_azimuth=array['surfaceAzimuth'],\n",
    "                                            peakpower=array['peakPower'],\n",
    "                                            pvcalculation=True,\n",
    "                                            mountingplace='building',\n",
    "                                            loss=14,\n",
    "                                            url=\"https://re.jrc.ec.europa.eu/api/v5_2/\",\n",
    "                                            start=2019,\n",
    "                                            end=2019\n",
    "                                           )"
   ]
  },
  {
   "cell_type": "code",
   "execution_count": 32,
   "id": "1b5e2356",
   "metadata": {},
   "outputs": [],
   "source": [
    "battery = {\n",
    "    \"socMax\": 10240,\n",
    "    # Don't discharge below 10%\n",
    "    \"socMin\": 10240*0.10\n",
    "}"
   ]
  },
  {
   "cell_type": "code",
   "execution_count": 33,
   "id": "ea14a796",
   "metadata": {},
   "outputs": [],
   "source": [
    "pvPowerCombined = sum(pvPower)\n",
    "# PVGIS results have a shift after the full hour, so we shift them back to the hour\n",
    "# That shift is somehow dependent on the location, but I don't yet understand how,\n",
    "# that why we try to guess the shift from the first entry\n",
    "shift = pvPowerCombined.index[0] - datetime.datetime(2019, 1, 1, tzinfo=pytz.utc)\n",
    "pvPowerCombined = pvPowerCombined.shift(-int(shift.total_seconds()/60), freq='min')"
   ]
  },
  {
   "cell_type": "code",
   "execution_count": 34,
   "id": "5859a611",
   "metadata": {},
   "outputs": [],
   "source": [
    "hdf = pd.HDFStore('2019_data_spatial.hdf5', mode='r')\n",
    "# Rescale load to our usage defined above\n",
    "householdLoad = hdf.get('/NO_PV/60min/HOUSEHOLD')*yearlyConsumptionHousehold*1000/hdf.get('/NO_PV/60min/HOUSEHOLD').P_TOT.sum() + hdf.get('/NO_PV/60min/HEATPUMP')*yearlyConsumptionHeatpump*1000/hdf.get('/NO_PV/60min/HEATPUMP').P_TOT.sum()\n",
    "# Add UTC timezone to allow merging the dataframe with the PVGIS dataframe\n",
    "householdLoad.index = householdLoad.index.tz_localize('UTC')"
   ]
  },
  {
   "cell_type": "code",
   "execution_count": 35,
   "id": "f831eb4a",
   "metadata": {},
   "outputs": [],
   "source": [
    "combinedDataframe = pd.concat([pvPowerCombined, householdLoad], axis=1)\n",
    "combinedDataframe.rename(columns={'P_TOT': 'householdLoad', 'P': 'PV'}, inplace=True)"
   ]
  },
  {
   "cell_type": "code",
   "execution_count": 36,
   "id": "daa6ceb5",
   "metadata": {},
   "outputs": [
    {
     "data": {
      "text/html": [
       "<div>\n",
       "<style scoped>\n",
       "    .dataframe tbody tr th:only-of-type {\n",
       "        vertical-align: middle;\n",
       "    }\n",
       "\n",
       "    .dataframe tbody tr th {\n",
       "        vertical-align: top;\n",
       "    }\n",
       "\n",
       "    .dataframe thead th {\n",
       "        text-align: right;\n",
       "    }\n",
       "</style>\n",
       "<table border=\"1\" class=\"dataframe\">\n",
       "  <thead>\n",
       "    <tr style=\"text-align: right;\">\n",
       "      <th></th>\n",
       "      <th>householdLoad</th>\n",
       "      <th>PV</th>\n",
       "      <th>selfUsage</th>\n",
       "      <th>batteryDischarge</th>\n",
       "      <th>gridFeed</th>\n",
       "      <th>gridUsage</th>\n",
       "      <th>batteryChargeLevel</th>\n",
       "    </tr>\n",
       "  </thead>\n",
       "  <tbody>\n",
       "    <tr>\n",
       "      <th>2019-01-01 00:00:00+00:00</th>\n",
       "      <td>869.867054</td>\n",
       "      <td>0.0</td>\n",
       "      <td>0.0</td>\n",
       "      <td>0.0</td>\n",
       "      <td>0.0</td>\n",
       "      <td>0.0</td>\n",
       "      <td>0.0</td>\n",
       "    </tr>\n",
       "    <tr>\n",
       "      <th>2019-01-01 01:00:00+00:00</th>\n",
       "      <td>737.934386</td>\n",
       "      <td>0.0</td>\n",
       "      <td>0.0</td>\n",
       "      <td>0.0</td>\n",
       "      <td>0.0</td>\n",
       "      <td>0.0</td>\n",
       "      <td>0.0</td>\n",
       "    </tr>\n",
       "    <tr>\n",
       "      <th>2019-01-01 02:00:00+00:00</th>\n",
       "      <td>723.909549</td>\n",
       "      <td>0.0</td>\n",
       "      <td>0.0</td>\n",
       "      <td>0.0</td>\n",
       "      <td>0.0</td>\n",
       "      <td>0.0</td>\n",
       "      <td>0.0</td>\n",
       "    </tr>\n",
       "    <tr>\n",
       "      <th>2019-01-01 03:00:00+00:00</th>\n",
       "      <td>730.378276</td>\n",
       "      <td>0.0</td>\n",
       "      <td>0.0</td>\n",
       "      <td>0.0</td>\n",
       "      <td>0.0</td>\n",
       "      <td>0.0</td>\n",
       "      <td>0.0</td>\n",
       "    </tr>\n",
       "    <tr>\n",
       "      <th>2019-01-01 04:00:00+00:00</th>\n",
       "      <td>704.578084</td>\n",
       "      <td>0.0</td>\n",
       "      <td>0.0</td>\n",
       "      <td>0.0</td>\n",
       "      <td>0.0</td>\n",
       "      <td>0.0</td>\n",
       "      <td>0.0</td>\n",
       "    </tr>\n",
       "  </tbody>\n",
       "</table>\n",
       "</div>"
      ],
      "text/plain": [
       "                           householdLoad   PV  selfUsage  batteryDischarge  \\\n",
       "2019-01-01 00:00:00+00:00     869.867054  0.0        0.0               0.0   \n",
       "2019-01-01 01:00:00+00:00     737.934386  0.0        0.0               0.0   \n",
       "2019-01-01 02:00:00+00:00     723.909549  0.0        0.0               0.0   \n",
       "2019-01-01 03:00:00+00:00     730.378276  0.0        0.0               0.0   \n",
       "2019-01-01 04:00:00+00:00     704.578084  0.0        0.0               0.0   \n",
       "\n",
       "                           gridFeed  gridUsage  batteryChargeLevel  \n",
       "2019-01-01 00:00:00+00:00       0.0        0.0                 0.0  \n",
       "2019-01-01 01:00:00+00:00       0.0        0.0                 0.0  \n",
       "2019-01-01 02:00:00+00:00       0.0        0.0                 0.0  \n",
       "2019-01-01 03:00:00+00:00       0.0        0.0                 0.0  \n",
       "2019-01-01 04:00:00+00:00       0.0        0.0                 0.0  "
      ]
     },
     "execution_count": 36,
     "metadata": {},
     "output_type": "execute_result"
    }
   ],
   "source": [
    "outputDataframe = combinedDataframe[['householdLoad', 'PV']]\n",
    "outputDataframe = outputDataframe.assign(selfUsage=0., batteryDischarge=0., gridFeed=0., gridUsage=0., batteryChargeLevel=0., )\n",
    "outputDataframe.head()"
   ]
  },
  {
   "cell_type": "code",
   "execution_count": 37,
   "id": "eaba8000",
   "metadata": {},
   "outputs": [],
   "source": [
    "for time, row in combinedDataframe.iterrows():\n",
    "    PV_power = row.PV\n",
    "    load = row.householdLoad\n",
    "    # Get battery charge from last row\n",
    "    current_row_int_index = outputDataframe.index.get_loc(time)\n",
    "    battery_charge = outputDataframe['batteryChargeLevel'].iloc[current_row_int_index - 1]\n",
    "    \n",
    "    if (PV_power >= load):\n",
    "        # Cover load from PV\n",
    "        excess_power = PV_power - load\n",
    "        outputDataframe.at[time, 'selfUsage'] = load\n",
    "        # Distribute excess power, load battery first\n",
    "        # excess_power is multiplied by 0.95 to simulate battery losses of 5%\n",
    "        battery_charge += excess_power * 0.95\n",
    "        if battery_charge >= battery['socMax']:\n",
    "            # battery would be overcharged, feed what doesn't fit into the battery to the grid\n",
    "            battery_overcharge = battery_charge - battery['socMax']\n",
    "            outputDataframe.at[time, 'gridFeed'] = battery_overcharge\n",
    "            # reduce battery charge to battery capacity\n",
    "            battery_charge = battery['socMax']\n",
    "\n",
    "    elif (PV_power < load):\n",
    "        # Use PV to partially cover load\n",
    "        excess_load = load - PV_power\n",
    "        outputDataframe.at[time, 'selfUsage'] = PV_power\n",
    "        # Try to cover the rest of the load from the battery\n",
    "        battery_charge -= excess_load\n",
    "        if battery_charge < battery['socMin']:\n",
    "            # calculate load to be covered by the grid\n",
    "            grid_load = battery['socMin'] - battery_charge\n",
    "            # Cover excess load from the grid\n",
    "            outputDataframe.at[time, 'gridUsage'] = grid_load\n",
    "            # reduce excess_load for battery discharge calculation\n",
    "            excess_load -= grid_load\n",
    "            # reset battery charge to socMin\n",
    "            battery_charge = battery['socMin']\n",
    "        # note battery discharge to cover load\n",
    "        outputDataframe.at[time, 'batteryDischarge'] = excess_load\n",
    "    \n",
    "    # Write new battery charge to the output dataframe\n",
    "    outputDataframe.at[time, 'batteryChargeLevel'] = battery_charge"
   ]
  },
  {
   "cell_type": "code",
   "execution_count": 38,
   "id": "cbb06dae",
   "metadata": {},
   "outputs": [
    {
     "name": "stdout",
     "output_type": "stream",
     "text": [
      "Household consumption: 6200 kWh\n",
      "Solar power: 6043 kWh\n",
      "direct self usage: 2037 kWh / 33.7 % of PV generation\n",
      "battery discharge: 1231 kWh / 20.4 % of PV generation\n",
      "grid feed-in: 2573 kWh / 42.6 % of PV generation\n",
      "\n",
      "Grid consumption: 2932 kWh / 47.3 % total consumption\n"
     ]
    }
   ],
   "source": [
    "householdConsumption = outputDataframe.householdLoad.sum()/1000\n",
    "pvPower = outputDataframe.PV.sum()/1000\n",
    "gridConsumption = outputDataframe.gridUsage.sum()/1000\n",
    "selfUsage = outputDataframe.selfUsage.sum()/1000\n",
    "batteryDischarge = outputDataframe.batteryDischarge.sum()/1000\n",
    "gridUsage = outputDataframe.gridUsage.sum()/1000\n",
    "gridFeed = outputDataframe.gridFeed.sum()/1000\n",
    "\n",
    "print(f'Household consumption: {householdConsumption:.0f} kWh')\n",
    "print(f'Solar power: {pvPower:.0f} kWh')\n",
    "print(f'direct self usage: {selfUsage:.0f} kWh / {selfUsage*100/pvPower:.1f} % of PV generation')\n",
    "print(f'battery discharge: {batteryDischarge:.0f} kWh / {batteryDischarge*100/pvPower:.1f} % of PV generation')\n",
    "print(f'grid feed-in: {gridFeed:.0f} kWh / {gridFeed*100/pvPower:.1f} % of PV generation')\n",
    "print()\n",
    "print(f'Grid consumption: {gridConsumption:.0f} kWh / {gridConsumption*100/householdConsumption:.1f} % total consumption')"
   ]
  },
  {
   "cell_type": "code",
   "execution_count": 39,
   "id": "7405ee8f",
   "metadata": {},
   "outputs": [
    {
     "data": {
      "text/plain": [
       "<AxesSubplot:ylabel='Battery Charge'>"
      ]
     },
     "execution_count": 39,
     "metadata": {},
     "output_type": "execute_result"
    },
    {
     "data": {
      "image/png": "[encoded data removed]",
      "text/plain": [
       "<Figure size 432x288 with 2 Axes>"
      ]
     },
     "metadata": {
      "needs_background": "light"
     },
     "output_type": "display_data"
    }
   ],
   "source": [
    "dateFrom = '2019-04-01'\n",
    "dateUntil = '2019-04-03'\n",
    "ax_power = outputDataframe[['householdLoad', 'PV', 'selfUsage', 'gridFeed', 'gridUsage']].loc[dateFrom:dateUntil].plot()\n",
    "\n",
    "ax_battery = ax_power.twinx()\n",
    "ax_battery.set_ylabel('Battery Charge')\n",
    "ax_battery.spines['right'].set_position(('axes', 1.0))\n",
    "outputDataframe['batteryChargeLevel'].loc[dateFrom:dateUntil].plot(ax=ax_battery, style='y-')"
   ]
  }
 ],
 "metadata": {
  "kernelspec": {
   "display_name": "Python 3.8.10 ('.venv': venv)",
   "language": "python",
   "name": "python3"
  },
  "language_info": {
   "codemirror_mode": {
    "name": "ipython",
    "version": 3
   },
   "file_extension": ".py",
   "mimetype": "text/x-python",
   "name": "python",
   "nbconvert_exporter": "python",
   "pygments_lexer": "ipython3",
   "version": "3.8.10"
  },
  "vscode": {
   "interpreter": {
    "hash": "dfe003ed6caeb192c9d48060ebb229ff69fdf064f69aefdc0f8f0c2503177759"
   }
  }
 },
 "nbformat": 4,
 "nbformat_minor": 5
}
